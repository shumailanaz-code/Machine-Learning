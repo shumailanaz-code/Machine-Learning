{
 "cells": [
  {
   "cell_type": "code",
   "execution_count": 1,
   "id": "9a901383",
   "metadata": {},
   "outputs": [],
   "source": [
    "# Step 1: Exploring and pre-processing of the dataset for classification"
   ]
  },
  {
   "cell_type": "code",
   "execution_count": 2,
   "id": "6ed58c2e",
   "metadata": {},
   "outputs": [],
   "source": [
    "# Import relevant libraries\n",
    "import numpy as np\n",
    "import pandas as pd\n",
    "import matplotlib.pyplot as plt\n",
    "import sklearn as ask\n",
    "import seaborn as sns"
   ]
  },
  {
   "cell_type": "code",
   "execution_count": 3,
   "id": "e074148f",
   "metadata": {},
   "outputs": [],
   "source": [
    "# Load dataset\n",
    "sales_data = pd.read_csv(\"sales_data.csv\")"
   ]
  },
  {
   "cell_type": "code",
   "execution_count": 4,
   "id": "aee9b967",
   "metadata": {},
   "outputs": [
    {
     "data": {
      "text/html": [
       "<div>\n",
       "<style scoped>\n",
       "    .dataframe tbody tr th:only-of-type {\n",
       "        vertical-align: middle;\n",
       "    }\n",
       "\n",
       "    .dataframe tbody tr th {\n",
       "        vertical-align: top;\n",
       "    }\n",
       "\n",
       "    .dataframe thead th {\n",
       "        text-align: right;\n",
       "    }\n",
       "</style>\n",
       "<table border=\"1\" class=\"dataframe\">\n",
       "  <thead>\n",
       "    <tr style=\"text-align: right;\">\n",
       "      <th></th>\n",
       "      <th>Order_No</th>\n",
       "      <th>Qty_Ordered</th>\n",
       "      <th>Price</th>\n",
       "      <th>Sales</th>\n",
       "      <th>Status</th>\n",
       "      <th>Product_Line</th>\n",
       "      <th>Product_Code</th>\n",
       "      <th>Deal_Size</th>\n",
       "    </tr>\n",
       "  </thead>\n",
       "  <tbody>\n",
       "    <tr>\n",
       "      <th>0</th>\n",
       "      <td>10107</td>\n",
       "      <td>30</td>\n",
       "      <td>95.70</td>\n",
       "      <td>2871.00</td>\n",
       "      <td>Shipped</td>\n",
       "      <td>Eye Shadow</td>\n",
       "      <td>CST-1001</td>\n",
       "      <td>Small</td>\n",
       "    </tr>\n",
       "    <tr>\n",
       "      <th>1</th>\n",
       "      <td>10121</td>\n",
       "      <td>34</td>\n",
       "      <td>81.35</td>\n",
       "      <td>2765.90</td>\n",
       "      <td>Shipped</td>\n",
       "      <td>Eye Shadow</td>\n",
       "      <td>CST-1001</td>\n",
       "      <td>Small</td>\n",
       "    </tr>\n",
       "    <tr>\n",
       "      <th>2</th>\n",
       "      <td>10134</td>\n",
       "      <td>41</td>\n",
       "      <td>94.74</td>\n",
       "      <td>3884.34</td>\n",
       "      <td>Shipped</td>\n",
       "      <td>Eye Shadow</td>\n",
       "      <td>CST-1001</td>\n",
       "      <td>Medium</td>\n",
       "    </tr>\n",
       "    <tr>\n",
       "      <th>3</th>\n",
       "      <td>10145</td>\n",
       "      <td>45</td>\n",
       "      <td>83.26</td>\n",
       "      <td>3746.70</td>\n",
       "      <td>Shipped</td>\n",
       "      <td>Eye Shadow</td>\n",
       "      <td>CST-1001</td>\n",
       "      <td>Medium</td>\n",
       "    </tr>\n",
       "    <tr>\n",
       "      <th>4</th>\n",
       "      <td>10159</td>\n",
       "      <td>49</td>\n",
       "      <td>100.00</td>\n",
       "      <td>5205.27</td>\n",
       "      <td>Shipped</td>\n",
       "      <td>Eye Shadow</td>\n",
       "      <td>CST-1001</td>\n",
       "      <td>Medium</td>\n",
       "    </tr>\n",
       "  </tbody>\n",
       "</table>\n",
       "</div>"
      ],
      "text/plain": [
       "   Order_No  Qty_Ordered   Price    Sales   Status Product_Line Product_Code  \\\n",
       "0     10107           30   95.70  2871.00  Shipped   Eye Shadow     CST-1001   \n",
       "1     10121           34   81.35  2765.90  Shipped   Eye Shadow     CST-1001   \n",
       "2     10134           41   94.74  3884.34  Shipped   Eye Shadow     CST-1001   \n",
       "3     10145           45   83.26  3746.70  Shipped   Eye Shadow     CST-1001   \n",
       "4     10159           49  100.00  5205.27  Shipped   Eye Shadow     CST-1001   \n",
       "\n",
       "  Deal_Size  \n",
       "0     Small  \n",
       "1     Small  \n",
       "2    Medium  \n",
       "3    Medium  \n",
       "4    Medium  "
      ]
     },
     "execution_count": 4,
     "metadata": {},
     "output_type": "execute_result"
    }
   ],
   "source": [
    "# Check the first 5 rows of the dataset\n",
    "sales_data.head()"
   ]
  },
  {
   "cell_type": "code",
   "execution_count": 5,
   "id": "51dbe22a",
   "metadata": {},
   "outputs": [
    {
     "data": {
      "text/html": [
       "<div>\n",
       "<style scoped>\n",
       "    .dataframe tbody tr th:only-of-type {\n",
       "        vertical-align: middle;\n",
       "    }\n",
       "\n",
       "    .dataframe tbody tr th {\n",
       "        vertical-align: top;\n",
       "    }\n",
       "\n",
       "    .dataframe thead th {\n",
       "        text-align: right;\n",
       "    }\n",
       "</style>\n",
       "<table border=\"1\" class=\"dataframe\">\n",
       "  <thead>\n",
       "    <tr style=\"text-align: right;\">\n",
       "      <th></th>\n",
       "      <th>Order_No</th>\n",
       "      <th>Qty_Ordered</th>\n",
       "      <th>Price</th>\n",
       "      <th>Sales</th>\n",
       "      <th>Status</th>\n",
       "      <th>Product_Line</th>\n",
       "      <th>Product_Code</th>\n",
       "      <th>Deal_Size</th>\n",
       "    </tr>\n",
       "  </thead>\n",
       "  <tbody>\n",
       "    <tr>\n",
       "      <th>2818</th>\n",
       "      <td>10350</td>\n",
       "      <td>20</td>\n",
       "      <td>100.00</td>\n",
       "      <td>2244.40</td>\n",
       "      <td>Shipped</td>\n",
       "      <td>Blushes</td>\n",
       "      <td>CST-1006</td>\n",
       "      <td>Small</td>\n",
       "    </tr>\n",
       "    <tr>\n",
       "      <th>2819</th>\n",
       "      <td>10373</td>\n",
       "      <td>29</td>\n",
       "      <td>100.00</td>\n",
       "      <td>3978.51</td>\n",
       "      <td>Shipped</td>\n",
       "      <td>Blushes</td>\n",
       "      <td>CST-1006</td>\n",
       "      <td>Medium</td>\n",
       "    </tr>\n",
       "    <tr>\n",
       "      <th>2820</th>\n",
       "      <td>10386</td>\n",
       "      <td>43</td>\n",
       "      <td>100.00</td>\n",
       "      <td>5417.57</td>\n",
       "      <td>Resolved</td>\n",
       "      <td>Blushes</td>\n",
       "      <td>CST-1006</td>\n",
       "      <td>Medium</td>\n",
       "    </tr>\n",
       "    <tr>\n",
       "      <th>2821</th>\n",
       "      <td>10397</td>\n",
       "      <td>34</td>\n",
       "      <td>62.24</td>\n",
       "      <td>2116.16</td>\n",
       "      <td>Shipped</td>\n",
       "      <td>Blushes</td>\n",
       "      <td>CST-1006</td>\n",
       "      <td>Small</td>\n",
       "    </tr>\n",
       "    <tr>\n",
       "      <th>2822</th>\n",
       "      <td>10414</td>\n",
       "      <td>47</td>\n",
       "      <td>65.52</td>\n",
       "      <td>3079.44</td>\n",
       "      <td>On Hold</td>\n",
       "      <td>Blushes</td>\n",
       "      <td>CST-1006</td>\n",
       "      <td>Medium</td>\n",
       "    </tr>\n",
       "  </tbody>\n",
       "</table>\n",
       "</div>"
      ],
      "text/plain": [
       "      Order_No  Qty_Ordered   Price    Sales    Status Product_Line  \\\n",
       "2818     10350           20  100.00  2244.40   Shipped      Blushes   \n",
       "2819     10373           29  100.00  3978.51   Shipped      Blushes   \n",
       "2820     10386           43  100.00  5417.57  Resolved      Blushes   \n",
       "2821     10397           34   62.24  2116.16   Shipped      Blushes   \n",
       "2822     10414           47   65.52  3079.44   On Hold      Blushes   \n",
       "\n",
       "     Product_Code Deal_Size  \n",
       "2818     CST-1006     Small  \n",
       "2819     CST-1006    Medium  \n",
       "2820     CST-1006    Medium  \n",
       "2821     CST-1006     Small  \n",
       "2822     CST-1006    Medium  "
      ]
     },
     "execution_count": 5,
     "metadata": {},
     "output_type": "execute_result"
    }
   ],
   "source": [
    "# Check the last 5 rows of the dataset\n",
    "sales_data.tail()"
   ]
  },
  {
   "cell_type": "code",
   "execution_count": 6,
   "id": "64b33eaf",
   "metadata": {},
   "outputs": [
    {
     "data": {
      "text/plain": [
       "(2823, 8)"
      ]
     },
     "execution_count": 6,
     "metadata": {},
     "output_type": "execute_result"
    }
   ],
   "source": [
    "# Check the number of rows and columns of the dataset\n",
    "sales_data.shape"
   ]
  },
  {
   "cell_type": "code",
   "execution_count": 7,
   "id": "1e1641a8",
   "metadata": {},
   "outputs": [
    {
     "name": "stdout",
     "output_type": "stream",
     "text": [
      "<class 'pandas.core.frame.DataFrame'>\n",
      "RangeIndex: 2823 entries, 0 to 2822\n",
      "Data columns (total 8 columns):\n",
      " #   Column        Non-Null Count  Dtype  \n",
      "---  ------        --------------  -----  \n",
      " 0   Order_No      2823 non-null   int64  \n",
      " 1   Qty_Ordered   2823 non-null   int64  \n",
      " 2   Price         2823 non-null   float64\n",
      " 3   Sales         2814 non-null   float64\n",
      " 4   Status        2823 non-null   object \n",
      " 5   Product_Line  2823 non-null   object \n",
      " 6   Product_Code  2823 non-null   object \n",
      " 7   Deal_Size     2823 non-null   object \n",
      "dtypes: float64(2), int64(2), object(4)\n",
      "memory usage: 176.6+ KB\n"
     ]
    }
   ],
   "source": [
    "# Check the summary of the data\n",
    "sales_data.info()"
   ]
  },
  {
   "cell_type": "code",
   "execution_count": 8,
   "id": "74385ef5",
   "metadata": {},
   "outputs": [],
   "source": [
    "# This info shows that 'Sales' coulmn have null values, which means data cleaning is required.\n",
    "# we will do data cleaning in next steps. "
   ]
  },
  {
   "cell_type": "code",
   "execution_count": 9,
   "id": "2f346ee7",
   "metadata": {},
   "outputs": [
    {
     "data": {
      "text/html": [
       "<div>\n",
       "<style scoped>\n",
       "    .dataframe tbody tr th:only-of-type {\n",
       "        vertical-align: middle;\n",
       "    }\n",
       "\n",
       "    .dataframe tbody tr th {\n",
       "        vertical-align: top;\n",
       "    }\n",
       "\n",
       "    .dataframe thead th {\n",
       "        text-align: right;\n",
       "    }\n",
       "</style>\n",
       "<table border=\"1\" class=\"dataframe\">\n",
       "  <thead>\n",
       "    <tr style=\"text-align: right;\">\n",
       "      <th></th>\n",
       "      <th>Order_No</th>\n",
       "      <th>Qty_Ordered</th>\n",
       "      <th>Price</th>\n",
       "      <th>Sales</th>\n",
       "    </tr>\n",
       "  </thead>\n",
       "  <tbody>\n",
       "    <tr>\n",
       "      <th>count</th>\n",
       "      <td>2823.000000</td>\n",
       "      <td>2823.000000</td>\n",
       "      <td>2823.000000</td>\n",
       "      <td>2814.000000</td>\n",
       "    </tr>\n",
       "    <tr>\n",
       "      <th>mean</th>\n",
       "      <td>10258.725115</td>\n",
       "      <td>35.092809</td>\n",
       "      <td>83.658544</td>\n",
       "      <td>3553.802530</td>\n",
       "    </tr>\n",
       "    <tr>\n",
       "      <th>std</th>\n",
       "      <td>92.085478</td>\n",
       "      <td>9.741443</td>\n",
       "      <td>20.174277</td>\n",
       "      <td>1841.522315</td>\n",
       "    </tr>\n",
       "    <tr>\n",
       "      <th>min</th>\n",
       "      <td>10100.000000</td>\n",
       "      <td>6.000000</td>\n",
       "      <td>26.880000</td>\n",
       "      <td>482.130000</td>\n",
       "    </tr>\n",
       "    <tr>\n",
       "      <th>25%</th>\n",
       "      <td>10180.000000</td>\n",
       "      <td>27.000000</td>\n",
       "      <td>68.860000</td>\n",
       "      <td>2203.837500</td>\n",
       "    </tr>\n",
       "    <tr>\n",
       "      <th>50%</th>\n",
       "      <td>10262.000000</td>\n",
       "      <td>35.000000</td>\n",
       "      <td>95.700000</td>\n",
       "      <td>3184.410000</td>\n",
       "    </tr>\n",
       "    <tr>\n",
       "      <th>75%</th>\n",
       "      <td>10333.500000</td>\n",
       "      <td>43.000000</td>\n",
       "      <td>100.000000</td>\n",
       "      <td>4508.000000</td>\n",
       "    </tr>\n",
       "    <tr>\n",
       "      <th>max</th>\n",
       "      <td>10425.000000</td>\n",
       "      <td>97.000000</td>\n",
       "      <td>100.000000</td>\n",
       "      <td>14082.800000</td>\n",
       "    </tr>\n",
       "  </tbody>\n",
       "</table>\n",
       "</div>"
      ],
      "text/plain": [
       "           Order_No  Qty_Ordered        Price         Sales\n",
       "count   2823.000000  2823.000000  2823.000000   2814.000000\n",
       "mean   10258.725115    35.092809    83.658544   3553.802530\n",
       "std       92.085478     9.741443    20.174277   1841.522315\n",
       "min    10100.000000     6.000000    26.880000    482.130000\n",
       "25%    10180.000000    27.000000    68.860000   2203.837500\n",
       "50%    10262.000000    35.000000    95.700000   3184.410000\n",
       "75%    10333.500000    43.000000   100.000000   4508.000000\n",
       "max    10425.000000    97.000000   100.000000  14082.800000"
      ]
     },
     "execution_count": 9,
     "metadata": {},
     "output_type": "execute_result"
    }
   ],
   "source": [
    "# Check the description of the dataset\n",
    "sales_data.describe()"
   ]
  },
  {
   "cell_type": "code",
   "execution_count": 10,
   "id": "2bbcd1af",
   "metadata": {},
   "outputs": [
    {
     "data": {
      "text/html": [
       "<div>\n",
       "<style scoped>\n",
       "    .dataframe tbody tr th:only-of-type {\n",
       "        vertical-align: middle;\n",
       "    }\n",
       "\n",
       "    .dataframe tbody tr th {\n",
       "        vertical-align: top;\n",
       "    }\n",
       "\n",
       "    .dataframe thead th {\n",
       "        text-align: right;\n",
       "    }\n",
       "</style>\n",
       "<table border=\"1\" class=\"dataframe\">\n",
       "  <thead>\n",
       "    <tr style=\"text-align: right;\">\n",
       "      <th></th>\n",
       "      <th>Order_No</th>\n",
       "      <th>Qty_Ordered</th>\n",
       "      <th>Price</th>\n",
       "      <th>Sales</th>\n",
       "      <th>Status</th>\n",
       "      <th>Product_Line</th>\n",
       "      <th>Product_Code</th>\n",
       "      <th>Deal_Size</th>\n",
       "    </tr>\n",
       "  </thead>\n",
       "  <tbody>\n",
       "    <tr>\n",
       "      <th>0</th>\n",
       "      <td>10107</td>\n",
       "      <td>30</td>\n",
       "      <td>95.70</td>\n",
       "      <td>2871.00</td>\n",
       "      <td>Shipped</td>\n",
       "      <td>Eye Shadow</td>\n",
       "      <td>CST-1001</td>\n",
       "      <td>Small</td>\n",
       "    </tr>\n",
       "    <tr>\n",
       "      <th>1</th>\n",
       "      <td>10121</td>\n",
       "      <td>34</td>\n",
       "      <td>81.35</td>\n",
       "      <td>2765.90</td>\n",
       "      <td>Shipped</td>\n",
       "      <td>Eye Shadow</td>\n",
       "      <td>CST-1001</td>\n",
       "      <td>Small</td>\n",
       "    </tr>\n",
       "    <tr>\n",
       "      <th>2</th>\n",
       "      <td>10134</td>\n",
       "      <td>41</td>\n",
       "      <td>94.74</td>\n",
       "      <td>3884.34</td>\n",
       "      <td>Shipped</td>\n",
       "      <td>Eye Shadow</td>\n",
       "      <td>CST-1001</td>\n",
       "      <td>Medium</td>\n",
       "    </tr>\n",
       "    <tr>\n",
       "      <th>3</th>\n",
       "      <td>10145</td>\n",
       "      <td>45</td>\n",
       "      <td>83.26</td>\n",
       "      <td>3746.70</td>\n",
       "      <td>Shipped</td>\n",
       "      <td>Eye Shadow</td>\n",
       "      <td>CST-1001</td>\n",
       "      <td>Medium</td>\n",
       "    </tr>\n",
       "    <tr>\n",
       "      <th>4</th>\n",
       "      <td>10159</td>\n",
       "      <td>49</td>\n",
       "      <td>100.00</td>\n",
       "      <td>5205.27</td>\n",
       "      <td>Shipped</td>\n",
       "      <td>Eye Shadow</td>\n",
       "      <td>CST-1001</td>\n",
       "      <td>Medium</td>\n",
       "    </tr>\n",
       "  </tbody>\n",
       "</table>\n",
       "</div>"
      ],
      "text/plain": [
       "   Order_No  Qty_Ordered   Price    Sales   Status Product_Line Product_Code  \\\n",
       "0     10107           30   95.70  2871.00  Shipped   Eye Shadow     CST-1001   \n",
       "1     10121           34   81.35  2765.90  Shipped   Eye Shadow     CST-1001   \n",
       "2     10134           41   94.74  3884.34  Shipped   Eye Shadow     CST-1001   \n",
       "3     10145           45   83.26  3746.70  Shipped   Eye Shadow     CST-1001   \n",
       "4     10159           49  100.00  5205.27  Shipped   Eye Shadow     CST-1001   \n",
       "\n",
       "  Deal_Size  \n",
       "0     Small  \n",
       "1     Small  \n",
       "2    Medium  \n",
       "3    Medium  \n",
       "4    Medium  "
      ]
     },
     "execution_count": 10,
     "metadata": {},
     "output_type": "execute_result"
    }
   ],
   "source": [
    "# Data Cleaning\n",
    "# we will fill NaN Values in 'Sales' columns with 'mean'.\n",
    "\n",
    "sales_data = sales_data.fillna(sales_data.Sales.mean())\n",
    "sales_data.head()"
   ]
  },
  {
   "cell_type": "code",
   "execution_count": 11,
   "id": "4e67c1ce",
   "metadata": {},
   "outputs": [
    {
     "data": {
      "text/plain": [
       "Order_No        0\n",
       "Qty_Ordered     0\n",
       "Price           0\n",
       "Sales           0\n",
       "Status          0\n",
       "Product_Line    0\n",
       "Product_Code    0\n",
       "Deal_Size       0\n",
       "dtype: int64"
      ]
     },
     "execution_count": 11,
     "metadata": {},
     "output_type": "execute_result"
    }
   ],
   "source": [
    "# Check again if there is any NaN value\n",
    "sales_data.isnull().sum()"
   ]
  },
  {
   "cell_type": "code",
   "execution_count": 12,
   "id": "acc3e439",
   "metadata": {},
   "outputs": [
    {
     "data": {
      "text/html": [
       "<div>\n",
       "<style scoped>\n",
       "    .dataframe tbody tr th:only-of-type {\n",
       "        vertical-align: middle;\n",
       "    }\n",
       "\n",
       "    .dataframe tbody tr th {\n",
       "        vertical-align: top;\n",
       "    }\n",
       "\n",
       "    .dataframe thead th {\n",
       "        text-align: right;\n",
       "    }\n",
       "</style>\n",
       "<table border=\"1\" class=\"dataframe\">\n",
       "  <thead>\n",
       "    <tr style=\"text-align: right;\">\n",
       "      <th></th>\n",
       "      <th>Order_No</th>\n",
       "      <th>Qty_Ordered</th>\n",
       "      <th>Price</th>\n",
       "      <th>Sales</th>\n",
       "      <th>Status</th>\n",
       "      <th>Product_Line</th>\n",
       "      <th>Product_Code</th>\n",
       "      <th>Deal_Size</th>\n",
       "    </tr>\n",
       "  </thead>\n",
       "  <tbody>\n",
       "    <tr>\n",
       "      <th>0</th>\n",
       "      <td>10107</td>\n",
       "      <td>30</td>\n",
       "      <td>95</td>\n",
       "      <td>2871</td>\n",
       "      <td>Shipped</td>\n",
       "      <td>Eye Shadow</td>\n",
       "      <td>CST-1001</td>\n",
       "      <td>Small</td>\n",
       "    </tr>\n",
       "    <tr>\n",
       "      <th>1</th>\n",
       "      <td>10121</td>\n",
       "      <td>34</td>\n",
       "      <td>81</td>\n",
       "      <td>2765</td>\n",
       "      <td>Shipped</td>\n",
       "      <td>Eye Shadow</td>\n",
       "      <td>CST-1001</td>\n",
       "      <td>Small</td>\n",
       "    </tr>\n",
       "    <tr>\n",
       "      <th>2</th>\n",
       "      <td>10134</td>\n",
       "      <td>41</td>\n",
       "      <td>94</td>\n",
       "      <td>3884</td>\n",
       "      <td>Shipped</td>\n",
       "      <td>Eye Shadow</td>\n",
       "      <td>CST-1001</td>\n",
       "      <td>Medium</td>\n",
       "    </tr>\n",
       "    <tr>\n",
       "      <th>3</th>\n",
       "      <td>10145</td>\n",
       "      <td>45</td>\n",
       "      <td>83</td>\n",
       "      <td>3746</td>\n",
       "      <td>Shipped</td>\n",
       "      <td>Eye Shadow</td>\n",
       "      <td>CST-1001</td>\n",
       "      <td>Medium</td>\n",
       "    </tr>\n",
       "    <tr>\n",
       "      <th>4</th>\n",
       "      <td>10159</td>\n",
       "      <td>49</td>\n",
       "      <td>100</td>\n",
       "      <td>5205</td>\n",
       "      <td>Shipped</td>\n",
       "      <td>Eye Shadow</td>\n",
       "      <td>CST-1001</td>\n",
       "      <td>Medium</td>\n",
       "    </tr>\n",
       "  </tbody>\n",
       "</table>\n",
       "</div>"
      ],
      "text/plain": [
       "   Order_No  Qty_Ordered  Price  Sales   Status Product_Line Product_Code  \\\n",
       "0     10107           30     95   2871  Shipped   Eye Shadow     CST-1001   \n",
       "1     10121           34     81   2765  Shipped   Eye Shadow     CST-1001   \n",
       "2     10134           41     94   3884  Shipped   Eye Shadow     CST-1001   \n",
       "3     10145           45     83   3746  Shipped   Eye Shadow     CST-1001   \n",
       "4     10159           49    100   5205  Shipped   Eye Shadow     CST-1001   \n",
       "\n",
       "  Deal_Size  \n",
       "0     Small  \n",
       "1     Small  \n",
       "2    Medium  \n",
       "3    Medium  \n",
       "4    Medium  "
      ]
     },
     "execution_count": 12,
     "metadata": {},
     "output_type": "execute_result"
    }
   ],
   "source": [
    "# Convert 'Price' and 'Sales' coulmn into integer\n",
    "\n",
    "sales_data.Price = sales_data.Price.astype(int)\n",
    "sales_data.Sales = sales_data.Sales.astype(int)\n",
    "sales_data.head()"
   ]
  },
  {
   "cell_type": "code",
   "execution_count": 13,
   "id": "032b632c",
   "metadata": {},
   "outputs": [
    {
     "data": {
      "text/plain": [
       "Medium    1384\n",
       "Small     1282\n",
       "Large      157\n",
       "Name: Deal_Size, dtype: int64"
      ]
     },
     "execution_count": 13,
     "metadata": {},
     "output_type": "execute_result"
    }
   ],
   "source": [
    "# Explore unique values in 'Deal_Size' column\n",
    "\n",
    "sales_data.Deal_Size.value_counts()"
   ]
  },
  {
   "cell_type": "code",
   "execution_count": 14,
   "id": "2f99f08c",
   "metadata": {},
   "outputs": [
    {
     "data": {
      "text/plain": [
       "<Axes: xlabel='Deal_Size', ylabel='count'>"
      ]
     },
     "execution_count": 14,
     "metadata": {},
     "output_type": "execute_result"
    },
    {
     "data": {
      "image/png": "[encoded data removed]",
      "text/plain": [
       "<Figure size 640x480 with 1 Axes>"
      ]
     },
     "metadata": {},
     "output_type": "display_data"
    }
   ],
   "source": [
    "# Visualise imbalance classes\n",
    "\n",
    "sns.countplot(sales_data, x='Deal_Size')"
   ]
  },
  {
   "cell_type": "code",
   "execution_count": 15,
   "id": "bd73ef17",
   "metadata": {},
   "outputs": [
    {
     "data": {
      "text/html": [
       "<div>\n",
       "<style scoped>\n",
       "    .dataframe tbody tr th:only-of-type {\n",
       "        vertical-align: middle;\n",
       "    }\n",
       "\n",
       "    .dataframe tbody tr th {\n",
       "        vertical-align: top;\n",
       "    }\n",
       "\n",
       "    .dataframe thead th {\n",
       "        text-align: right;\n",
       "    }\n",
       "</style>\n",
       "<table border=\"1\" class=\"dataframe\">\n",
       "  <thead>\n",
       "    <tr style=\"text-align: right;\">\n",
       "      <th></th>\n",
       "      <th>Order_No</th>\n",
       "      <th>Qty_Ordered</th>\n",
       "      <th>Price</th>\n",
       "      <th>Sales</th>\n",
       "      <th>Status</th>\n",
       "      <th>Product_Line</th>\n",
       "      <th>Product_Code</th>\n",
       "      <th>Deal_Size</th>\n",
       "    </tr>\n",
       "  </thead>\n",
       "  <tbody>\n",
       "    <tr>\n",
       "      <th>0</th>\n",
       "      <td>10107</td>\n",
       "      <td>30</td>\n",
       "      <td>95</td>\n",
       "      <td>2871</td>\n",
       "      <td>Shipped</td>\n",
       "      <td>Eye Shadow</td>\n",
       "      <td>CST-1001</td>\n",
       "      <td>0</td>\n",
       "    </tr>\n",
       "    <tr>\n",
       "      <th>1</th>\n",
       "      <td>10121</td>\n",
       "      <td>34</td>\n",
       "      <td>81</td>\n",
       "      <td>2765</td>\n",
       "      <td>Shipped</td>\n",
       "      <td>Eye Shadow</td>\n",
       "      <td>CST-1001</td>\n",
       "      <td>0</td>\n",
       "    </tr>\n",
       "    <tr>\n",
       "      <th>2</th>\n",
       "      <td>10134</td>\n",
       "      <td>41</td>\n",
       "      <td>94</td>\n",
       "      <td>3884</td>\n",
       "      <td>Shipped</td>\n",
       "      <td>Eye Shadow</td>\n",
       "      <td>CST-1001</td>\n",
       "      <td>1</td>\n",
       "    </tr>\n",
       "    <tr>\n",
       "      <th>3</th>\n",
       "      <td>10145</td>\n",
       "      <td>45</td>\n",
       "      <td>83</td>\n",
       "      <td>3746</td>\n",
       "      <td>Shipped</td>\n",
       "      <td>Eye Shadow</td>\n",
       "      <td>CST-1001</td>\n",
       "      <td>1</td>\n",
       "    </tr>\n",
       "    <tr>\n",
       "      <th>4</th>\n",
       "      <td>10159</td>\n",
       "      <td>49</td>\n",
       "      <td>100</td>\n",
       "      <td>5205</td>\n",
       "      <td>Shipped</td>\n",
       "      <td>Eye Shadow</td>\n",
       "      <td>CST-1001</td>\n",
       "      <td>1</td>\n",
       "    </tr>\n",
       "  </tbody>\n",
       "</table>\n",
       "</div>"
      ],
      "text/plain": [
       "   Order_No  Qty_Ordered  Price  Sales   Status Product_Line Product_Code  \\\n",
       "0     10107           30     95   2871  Shipped   Eye Shadow     CST-1001   \n",
       "1     10121           34     81   2765  Shipped   Eye Shadow     CST-1001   \n",
       "2     10134           41     94   3884  Shipped   Eye Shadow     CST-1001   \n",
       "3     10145           45     83   3746  Shipped   Eye Shadow     CST-1001   \n",
       "4     10159           49    100   5205  Shipped   Eye Shadow     CST-1001   \n",
       "\n",
       "   Deal_Size  \n",
       "0          0  \n",
       "1          0  \n",
       "2          1  \n",
       "3          1  \n",
       "4          1  "
      ]
     },
     "execution_count": 15,
     "metadata": {},
     "output_type": "execute_result"
    }
   ],
   "source": [
    "# As 'Deal_Size' column has categorical values, we will replace them with numerical values\n",
    "\n",
    "sales_data = sales_data.replace({\n",
    "    'Deal_Size' : {'Small':0, 'Medium':1, 'Large':2}\n",
    "})\n",
    "sales_data.head()"
   ]
  },
  {
   "cell_type": "code",
   "execution_count": 16,
   "id": "5fa5b8ce",
   "metadata": {},
   "outputs": [
    {
     "data": {
      "text/plain": [
       "array([[  30,   95, 2871],\n",
       "       [  34,   81, 2765],\n",
       "       [  41,   94, 3884]], dtype=int64)"
      ]
     },
     "execution_count": 16,
     "metadata": {},
     "output_type": "execute_result"
    }
   ],
   "source": [
    "# Describing Input and Output variables\n",
    "\n",
    "# Input Varibales\n",
    "\n",
    "X = sales_data.iloc[:, [1,2,3]].values\n",
    "X[0:3]"
   ]
  },
  {
   "cell_type": "code",
   "execution_count": 17,
   "id": "c48bd9d8",
   "metadata": {},
   "outputs": [
    {
     "data": {
      "text/plain": [
       "array([0, 0, 1, 1, 1], dtype=int64)"
      ]
     },
     "execution_count": 17,
     "metadata": {},
     "output_type": "execute_result"
    }
   ],
   "source": [
    "# Output Variable\n",
    "\n",
    "y = sales_data.iloc[:,7].values            \n",
    "y[0:5]"
   ]
  },
  {
   "cell_type": "code",
   "execution_count": 18,
   "id": "890da369",
   "metadata": {},
   "outputs": [
    {
     "name": "stdout",
     "output_type": "stream",
     "text": [
      "Input Train Set: (1976, 3) Output Train Set: (1976,)\n",
      "Input Test Set: (847, 3) Output Test Set: (847,)\n"
     ]
    }
   ],
   "source": [
    "# Data Splitting into Train and Test\n",
    "\n",
    "from sklearn.model_selection import train_test_split\n",
    "X_train, X_test, y_train, y_test = train_test_split(X , y, test_size = 0.30, random_state = 0, stratify = y )\n",
    "\n",
    "# Print Train and Test dataset number of rows and cloumns\n",
    "\n",
    "print('Input Train Set:', X_train.shape, 'Output Train Set:', y_train.shape)\n",
    "print('Input Test Set:', X_test.shape, 'Output Test Set:', y_test.shape)"
   ]
  },
  {
   "cell_type": "code",
   "execution_count": 19,
   "id": "8990ba49",
   "metadata": {},
   "outputs": [],
   "source": [
    "# Use oversampling to balance the imbalance classes\n",
    "\n",
    "from imblearn.over_sampling import RandomOverSampler\n",
    "oversampler = RandomOverSampler(random_state = 0)\n",
    "X_train_oversampled, y_train_oversampled = oversampler.fit_resample(X_train, y_train)\n"
   ]
  },
  {
   "cell_type": "code",
   "execution_count": 20,
   "id": "a2316b9d",
   "metadata": {},
   "outputs": [
    {
     "data": {
      "text/plain": [
       "<Axes: ylabel='count'>"
      ]
     },
     "execution_count": 20,
     "metadata": {},
     "output_type": "execute_result"
    },
    {
     "data": {
      "image/png": "[encoded data removed]",
      "text/plain": [
       "<Figure size 640x480 with 1 Axes>"
      ]
     },
     "metadata": {},
     "output_type": "display_data"
    }
   ],
   "source": [
    "# Visualise balanced classes\n",
    "\n",
    "sns.countplot(x=y_train_oversampled)"
   ]
  },
  {
   "cell_type": "code",
   "execution_count": 21,
   "id": "c8405670",
   "metadata": {},
   "outputs": [
    {
     "data": {
      "text/plain": [
       "array([[-0.31734108, -1.39493616, -0.99042431],\n",
       "       [-1.64456706, -1.86636567, -1.38519663],\n",
       "       [ 0.56747623, -2.12827094, -0.99440095]])"
      ]
     },
     "execution_count": 21,
     "metadata": {},
     "output_type": "execute_result"
    }
   ],
   "source": [
    "# Data Normalization\n",
    "\n",
    "from sklearn.preprocessing import StandardScaler\n",
    "\n",
    "# Normalize Training Data\n",
    "\n",
    "sc =StandardScaler()\n",
    "X_train_SS = sc.fit_transform(X_train_oversampled)\n",
    "X_train_SS[0:3]"
   ]
  },
  {
   "cell_type": "code",
   "execution_count": 22,
   "id": "a38ba7ff",
   "metadata": {},
   "outputs": [
    {
     "data": {
      "text/plain": [
       "array([[ 0.30203104, -1.49969828, -0.86570228],\n",
       "       [-0.49430455,  0.64792501,  0.13930417],\n",
       "       [ 0.4789945 ,  0.64792501,  0.05940977]])"
      ]
     },
     "execution_count": 22,
     "metadata": {},
     "output_type": "execute_result"
    }
   ],
   "source": [
    "# Normalize Test Data\n",
    "\n",
    "X_test_SS = sc.transform(X_test)\n",
    "X_test_SS[0:3]"
   ]
  },
  {
   "cell_type": "code",
   "execution_count": 23,
   "id": "a7dda5cf",
   "metadata": {},
   "outputs": [],
   "source": [
    "# Step 2: Calssification by using KNN Algoritham"
   ]
  },
  {
   "cell_type": "code",
   "execution_count": 24,
   "id": "70519e7f",
   "metadata": {},
   "outputs": [
    {
     "data": {
      "text/html": [
       "<style>#sk-container-id-1 {color: black;}#sk-container-id-1 pre{padding: 0;}#sk-container-id-1 div.sk-toggleable {background-color: white;}#sk-container-id-1 label.sk-toggleable__label {cursor: pointer;display: block;width: 100%;margin-bottom: 0;padding: 0.3em;box-sizing: border-box;text-align: center;}#sk-container-id-1 label.sk-toggleable__label-arrow:before {content: \"▸\";float: left;margin-right: 0.25em;color: #696969;}#sk-container-id-1 label.sk-toggleable__label-arrow:hover:before {color: black;}#sk-container-id-1 div.sk-estimator:hover label.sk-toggleable__label-arrow:before {color: black;}#sk-container-id-1 div.sk-toggleable__content {max-height: 0;max-width: 0;overflow: hidden;text-align: left;background-color: #f0f8ff;}#sk-container-id-1 div.sk-toggleable__content pre {margin: 0.2em;color: black;border-radius: 0.25em;background-color: #f0f8ff;}#sk-container-id-1 input.sk-toggleable__control:checked~div.sk-toggleable__content {max-height: 200px;max-width: 100%;overflow: auto;}#sk-container-id-1 input.sk-toggleable__control:checked~label.sk-toggleable__label-arrow:before {content: \"▾\";}#sk-container-id-1 div.sk-estimator input.sk-toggleable__control:checked~label.sk-toggleable__label {background-color: #d4ebff;}#sk-container-id-1 div.sk-label input.sk-toggleable__control:checked~label.sk-toggleable__label {background-color: #d4ebff;}#sk-container-id-1 input.sk-hidden--visually {border: 0;clip: rect(1px 1px 1px 1px);clip: rect(1px, 1px, 1px, 1px);height: 1px;margin: -1px;overflow: hidden;padding: 0;position: absolute;width: 1px;}#sk-container-id-1 div.sk-estimator {font-family: monospace;background-color: #f0f8ff;border: 1px dotted black;border-radius: 0.25em;box-sizing: border-box;margin-bottom: 0.5em;}#sk-container-id-1 div.sk-estimator:hover {background-color: #d4ebff;}#sk-container-id-1 div.sk-parallel-item::after {content: \"\";width: 100%;border-bottom: 1px solid gray;flex-grow: 1;}#sk-container-id-1 div.sk-label:hover label.sk-toggleable__label {background-color: #d4ebff;}#sk-container-id-1 div.sk-serial::before {content: \"\";position: absolute;border-left: 1px solid gray;box-sizing: border-box;top: 0;bottom: 0;left: 50%;z-index: 0;}#sk-container-id-1 div.sk-serial {display: flex;flex-direction: column;align-items: center;background-color: white;padding-right: 0.2em;padding-left: 0.2em;position: relative;}#sk-container-id-1 div.sk-item {position: relative;z-index: 1;}#sk-container-id-1 div.sk-parallel {display: flex;align-items: stretch;justify-content: center;background-color: white;position: relative;}#sk-container-id-1 div.sk-item::before, #sk-container-id-1 div.sk-parallel-item::before {content: \"\";position: absolute;border-left: 1px solid gray;box-sizing: border-box;top: 0;bottom: 0;left: 50%;z-index: -1;}#sk-container-id-1 div.sk-parallel-item {display: flex;flex-direction: column;z-index: 1;position: relative;background-color: white;}#sk-container-id-1 div.sk-parallel-item:first-child::after {align-self: flex-end;width: 50%;}#sk-container-id-1 div.sk-parallel-item:last-child::after {align-self: flex-start;width: 50%;}#sk-container-id-1 div.sk-parallel-item:only-child::after {width: 0;}#sk-container-id-1 div.sk-dashed-wrapped {border: 1px dashed gray;margin: 0 0.4em 0.5em 0.4em;box-sizing: border-box;padding-bottom: 0.4em;background-color: white;}#sk-container-id-1 div.sk-label label {font-family: monospace;font-weight: bold;display: inline-block;line-height: 1.2em;}#sk-container-id-1 div.sk-label-container {text-align: center;}#sk-container-id-1 div.sk-container {/* jupyter's `normalize.less` sets `[hidden] { display: none; }` but bootstrap.min.css set `[hidden] { display: none !important; }` so we also need the `!important` here to be able to override the default hidden behavior on the sphinx rendered scikit-learn.org. See: https://github.com/scikit-learn/scikit-learn/issues/21755 */display: inline-block !important;position: relative;}#sk-container-id-1 div.sk-text-repr-fallback {display: none;}</style><div id=\"sk-container-id-1\" class=\"sk-top-container\"><div class=\"sk-text-repr-fallback\"><pre>KNeighborsClassifier()</pre><b>In a Jupyter environment, please rerun this cell to show the HTML representation or trust the notebook. <br />On GitHub, the HTML representation is unable to render, please try loading this page with nbviewer.org.</b></div><div class=\"sk-container\" hidden><div class=\"sk-item\"><div class=\"sk-estimator sk-toggleable\"><input class=\"sk-toggleable__control sk-hidden--visually\" id=\"sk-estimator-id-1\" type=\"checkbox\" checked><label for=\"sk-estimator-id-1\" class=\"sk-toggleable__label sk-toggleable__label-arrow\">KNeighborsClassifier</label><div class=\"sk-toggleable__content\"><pre>KNeighborsClassifier()</pre></div></div></div></div></div>"
      ],
      "text/plain": [
       "KNeighborsClassifier()"
      ]
     },
     "execution_count": 24,
     "metadata": {},
     "output_type": "execute_result"
    }
   ],
   "source": [
    "# Instantiating the Model\n",
    "\n",
    "from sklearn.neighbors import KNeighborsClassifier\n",
    "\n",
    "k = 5\n",
    "model = KNeighborsClassifier(n_neighbors = k)\n",
    "\n",
    "# Training the Model\n",
    "\n",
    "model.fit(X_train_SS, y_train_oversampled)"
   ]
  },
  {
   "cell_type": "code",
   "execution_count": 25,
   "id": "cf656ad7",
   "metadata": {},
   "outputs": [
    {
     "name": "stdout",
     "output_type": "stream",
     "text": [
      "[0 1 1 2 1 0 0 0 1 0 0 2 1 1 0 0 0 1 1 1 1 0 0 0 1 2 2 1 1 0 0 0 0 1 0 0 0\n",
      " 1 0 1 2 1 1 0 1 0 0 1 2 2 1 0 1 0 0 1 1 1 0 1 1 1 0 2 1 0 1 1 1 2 0 0 1 0\n",
      " 0 1 0 1 0 2 0 0 0 0 0 1 0 0 1 1 0 0 1 0 1 0 1 1 1 0 1 1 0 1 1 1 0 1 0 1 0\n",
      " 1 1 1 0 1 0 1 1 0 1 0 1 1 0 2 1 1 2 2 0 2 1 1 1 1 0 0 0 0 0 1 0 0 1 1 0 1\n",
      " 0 0 2 1 1 1 1 1 1 1 1 1 2 1 1 1 2 1 0 0 0 1 0 1 1 0 1 1 1 1 2 1 0 0 0 0 1\n",
      " 0 1 0 1 0 0 0 2 0 1 1 0 1 1 1 1 1 1 0 0 1 0 0 1 1 1 0 1 1 0 1 1 0 1 1 0 1\n",
      " 0 0 0 1 0 1 1 0 1 1 0 1 2 1 0 1 0 1 1 1 1 0 0 1 1 0 1 1 1 0 1 2 0 0 0 0 1\n",
      " 0 1 0 0 1 1 0 1 0 1 0 0 0 1 1 2 0 1 1 0 1 0 1 1 0 2 2 0 0 0 1 1 1 0 1 2 1\n",
      " 0 0 0 1 1 1 0 1 0 1 1 0 0 0 1 0 1 0 0 0 0 1 2 1 1 0 1 1 0 1 0 0 1 1 1 1 0\n",
      " 1 0 1 0 1 0 0 1 0 1 0 0 0 1 2 1 0 0 1 1 0 2 1 0 0 1 2 1 1 0 1 0 1 2 1 0 0\n",
      " 0 0 1 0 0 0 0 2 0 0 1 0 1 0 1 1 1 1 2 1 0 0 1 1 0 0 2 0 0 1 1 1 1 1 0 0 1\n",
      " 2 0 1 1 0 0 0 1 1 1 0 0 1 0 0 1 0 1 0 1 0 1 1 1 1 1 1 0 1 0 0 1 0 1 0 0 0\n",
      " 0 1 2 1 1 1 0 0 0 1 1 1 1 0 1 1 1 1 1 0 1 0 2 0 1 1 0 0 0 1 1 1 1 0 1 1 1\n",
      " 2 1 0 1 1 1 0 1 1 0 0 1 0 1 0 2 0 2 0 1 1 0 0 0 1 1 0 1 1 0 2 0 1 0 1 1 0\n",
      " 0 0 0 0 0 1 0 2 2 0 1 0 0 1 1 0 0 0 1 0 0 1 1 0 1 0 0 0 0 0 1 0 0 0 0 0 1\n",
      " 0 0 1 1 0 0 0 1 1 0 0 0 1 0 1 2 0 1 1 0 1 1 0 0 0 0 1 0 0 2 0 1 1 0 1 0 1\n",
      " 0 0 0 0 1 1 1 0 0 1 1 0 1 0 1 0 0 2 1 0 0 1 0 0 1 1 1 1 1 1 0 0 1 1 1 0 0\n",
      " 1 1 0 0 0 1 1 0 1 0 0 1 1 0 1 0 1 1 0 1 0 1 0 1 1 2 0 0 0 0 0 0 1 0 0 0 0\n",
      " 1 0 0 1 1 1 1 1 0 1 1 1 1 0 1 1 1 1 0 1 1 1 0 0 1 1 1 1 1 1 1 1 1 2 0 1 0\n",
      " 1 1 0 1 2 0 0 1 0 1 2 1 2 2 1 1 0 0 1 0 0 1 1 0 1 0 0 1 1 0 0 1 0 0 0 1 1\n",
      " 0 0 0 1 0 0 0 1 0 0 0 1 0 2 1 0 1 1 0 1 0 0 0 0 0 0 0 0 1 1 1 1 1 1 0 0 1\n",
      " 0 0 0 0 1 0 1 1 2 0 1 0 0 0 1 0 1 0 1 0 1 1 2 1 0 0 1 0 1 1 1 1 1 1 0 0 1\n",
      " 0 1 1 1 1 0 1 0 0 0 1 1 1 2 0 2 0 1 1 1 2 1 0 0 1 0 1 1 1 0 0 1 1]\n"
     ]
    }
   ],
   "source": [
    "# Model Evaluation\n",
    "\n",
    "# Predict the Test set results of Output variable and print\n",
    "\n",
    "y_predict = model.predict(X_test_SS)\n",
    "print(y_predict)"
   ]
  },
  {
   "cell_type": "code",
   "execution_count": 26,
   "id": "3bc519e2",
   "metadata": {},
   "outputs": [
    {
     "name": "stdout",
     "output_type": "stream",
     "text": [
      "[0 1 1 1 0 0 0 0 1 1 0 2 1 1 0 0 0 1 1 1 1 0 0 0 1 1 2 1 1 0 0 0 0 1 0 0 0\n",
      " 1 0 1 2 1 1 0 1 0 0 1 2 2 1 0 1 0 0 1 1 1 0 1 1 1 0 2 1 0 1 1 1 2 0 0 1 0\n",
      " 0 1 0 1 0 2 0 0 0 0 0 1 0 0 1 1 0 0 1 0 1 0 1 1 1 0 1 1 0 1 1 1 0 1 0 1 0\n",
      " 1 1 1 0 1 0 1 1 0 1 0 1 1 0 2 1 1 2 2 0 1 1 1 1 1 0 0 0 0 0 1 0 0 1 1 0 1\n",
      " 0 0 2 1 1 1 1 1 1 1 1 1 2 1 1 1 2 1 0 0 0 1 0 1 1 1 1 1 1 1 2 1 0 0 0 0 1\n",
      " 0 1 0 1 0 0 0 2 0 1 1 0 1 1 1 1 1 1 0 0 1 0 0 1 1 1 0 1 2 0 1 1 0 1 1 0 1\n",
      " 0 0 0 1 0 1 1 0 1 1 0 1 2 1 0 0 0 1 1 1 1 0 0 1 1 0 1 1 1 0 1 2 0 0 0 0 1\n",
      " 0 1 0 0 1 1 0 1 0 1 0 0 0 1 1 2 0 0 1 0 1 0 1 1 0 2 2 0 0 0 1 1 1 0 1 2 1\n",
      " 0 0 0 1 1 1 0 0 0 1 1 0 0 0 1 0 1 0 0 0 0 1 2 1 1 0 1 1 0 1 0 0 1 1 1 1 0\n",
      " 1 0 1 0 1 0 0 1 0 1 0 0 0 1 2 1 0 0 1 1 0 2 1 0 0 1 2 1 1 0 1 0 1 1 1 0 0\n",
      " 0 0 1 0 0 0 0 1 0 0 1 0 1 0 1 1 1 1 2 1 0 0 1 1 1 0 1 0 0 1 1 1 1 1 0 0 1\n",
      " 2 0 1 1 0 0 0 1 1 1 0 0 1 0 0 1 0 1 0 1 0 1 1 1 1 1 1 0 1 0 0 1 0 1 0 0 0\n",
      " 0 1 2 1 1 1 0 0 0 1 1 1 1 0 1 1 1 1 1 0 1 0 2 0 1 1 0 0 0 0 1 1 1 0 1 1 1\n",
      " 1 1 0 1 1 1 0 1 1 0 0 1 0 1 0 2 0 1 0 1 1 0 0 0 1 1 0 1 1 0 2 0 1 0 1 1 0\n",
      " 0 0 0 0 0 1 0 2 2 0 1 0 0 1 1 0 0 0 1 0 0 1 1 0 1 0 0 0 0 0 1 0 0 0 0 0 1\n",
      " 0 0 1 1 0 0 0 1 1 0 0 0 1 0 1 2 0 1 1 0 1 1 0 0 0 0 1 0 0 2 0 1 1 0 1 0 1\n",
      " 0 0 0 0 1 1 1 1 0 1 1 0 1 0 1 0 0 2 1 0 0 1 0 0 1 0 1 1 1 1 0 0 1 1 1 0 0\n",
      " 1 1 0 0 0 1 1 0 1 0 0 1 1 0 1 0 1 1 0 1 0 1 0 1 0 2 0 0 0 0 0 0 1 0 0 0 0\n",
      " 1 0 0 1 1 1 1 1 0 1 1 1 1 0 1 1 1 1 0 1 1 1 0 0 1 1 1 1 1 1 1 1 1 2 0 1 0\n",
      " 1 1 0 1 2 0 0 1 0 0 1 1 2 1 1 1 0 0 1 0 0 1 1 0 1 0 0 1 1 0 0 1 0 0 0 1 1\n",
      " 0 0 0 1 0 0 0 1 0 0 0 1 0 2 1 0 1 1 0 1 0 0 0 0 0 0 0 0 1 1 1 1 1 1 0 0 1\n",
      " 0 0 0 0 1 0 1 1 2 0 1 0 0 0 1 0 1 0 1 0 1 1 2 1 0 0 1 0 1 1 1 1 1 1 1 0 1\n",
      " 0 1 1 1 1 0 1 0 0 0 1 1 1 1 0 2 0 1 1 1 2 1 0 0 1 0 1 1 1 0 0 1 1]\n"
     ]
    }
   ],
   "source": [
    "# Print the actual values of Output variable in Test dataset\n",
    "\n",
    "print(y_test)"
   ]
  },
  {
   "cell_type": "code",
   "execution_count": 27,
   "id": "8e16ba72",
   "metadata": {
    "scrolled": true
   },
   "outputs": [
    {
     "name": "stdout",
     "output_type": "stream",
     "text": [
      "Accuracy : 97.0484\n",
      "              precision    recall  f1-score   support\n",
      "\n",
      "           0       0.99      0.98      0.98       385\n",
      "           1       0.98      0.96      0.97       415\n",
      "           2       0.81      0.98      0.88        47\n",
      "\n",
      "    accuracy                           0.97       847\n",
      "   macro avg       0.92      0.97      0.95       847\n",
      "weighted avg       0.97      0.97      0.97       847\n",
      "\n"
     ]
    }
   ],
   "source": [
    "# Check accuracy score\n",
    "\n",
    "from sklearn.metrics import classification_report\n",
    "from sklearn.metrics import accuracy_score\n",
    "\n",
    "accuracy = accuracy_score(y_test , y_predict)\n",
    "print(\"Accuracy : {}\".format(round(accuracy*100,4))) \n",
    "print(classification_report(y_test , y_predict))"
   ]
  },
  {
   "cell_type": "code",
   "execution_count": 28,
   "id": "e1b5d43a",
   "metadata": {
    "scrolled": false
   },
   "outputs": [
    {
     "data": {
      "image/png": "[encoded data removed]",
      "text/plain": [
       "<Figure size 640x480 with 2 Axes>"
      ]
     },
     "metadata": {},
     "output_type": "display_data"
    }
   ],
   "source": [
    "# Check confusion matrics\n",
    "\n",
    "from sklearn.metrics import classification_report\n",
    "from sklearn import metrics\n",
    "\n",
    "cm = metrics.confusion_matrix(y_test, y_predict)\n",
    "cm_display = metrics.ConfusionMatrixDisplay(confusion_matrix = cm)\n",
    "cm_display.plot()\n",
    "plt.title(\"Confusion Matrix\", fontsize=14)\n",
    "plt.show()"
   ]
  }
 ],
 "metadata": {
  "kernelspec": {
   "display_name": "Python 3 (ipykernel)",
   "language": "python",
   "name": "python3"
  },
  "language_info": {
   "codemirror_mode": {
    "name": "ipython",
    "version": 3
   },
   "file_extension": ".py",
   "mimetype": "text/x-python",
   "name": "python",
   "nbconvert_exporter": "python",
   "pygments_lexer": "ipython3",
   "version": "3.11.4"
  }
 },
 "nbformat": 4,
 "nbformat_minor": 5
}
